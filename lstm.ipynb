{
 "cells": [
  {
   "cell_type": "markdown",
   "metadata": {},
   "source": [
    "## Spam SMS Classification using LSTM"
   ]
  },
  {
   "cell_type": "markdown",
   "metadata": {},
   "source": [
    "## 1. Import Libraries"
   ]
  },
  {
   "cell_type": "code",
   "execution_count": 1,
   "metadata": {},
   "outputs": [],
   "source": [
    "import os\n",
    "import warnings\n",
    "\n",
    "import pandas as pd \n",
    "\n",
    "import numpy as np\n",
    "\n",
    "import matplotlib.pyplot as plt\n",
    "%matplotlib inline\n",
    "from matplotlib import pyplot\n",
    "\n",
    "import seaborn as sns\n",
    "\n",
    "import nltk\n",
    "from nltk.corpus import stopwords\n",
    "from nltk.stem import PorterStemmer\n",
    "from sklearn.feature_extraction.text import CountVectorizer\n",
    "\n",
    "\n",
    "from sklearn.model_selection import train_test_split\n",
    "from sklearn import metrics\n",
    "from sklearn import preprocessing\n",
    "from sklearn.metrics import average_precision_score, confusion_matrix, accuracy_score, classification_report, plot_confusion_matrix"
   ]
  },
  {
   "cell_type": "markdown",
   "metadata": {},
   "source": [
    "## 2. Ignore warnings"
   ]
  },
  {
   "cell_type": "code",
   "execution_count": 2,
   "metadata": {},
   "outputs": [],
   "source": [
    "# suppress display of warnings\n",
    "warnings.filterwarnings('ignore')\n",
    "\n",
    "# display all dataframe columns\n",
    "pd.options.display.max_columns = None\n",
    "\n",
    "# to set the limit to 3 decimals\n",
    "pd.options.display.float_format = '{:.7f}'.format\n",
    "\n",
    "# display all dataframe rows\n",
    "pd.options.display.max_rows = None"
   ]
  },
  {
   "cell_type": "markdown",
   "metadata": {},
   "source": [
    "## 3. ● Read the data from the provided csv sms_spam_data.csv."
   ]
  },
  {
   "cell_type": "code",
   "execution_count": 3,
   "metadata": {},
   "outputs": [
    {
     "data": {
      "text/html": [
       "<div>\n",
       "<style scoped>\n",
       "    .dataframe tbody tr th:only-of-type {\n",
       "        vertical-align: middle;\n",
       "    }\n",
       "\n",
       "    .dataframe tbody tr th {\n",
       "        vertical-align: top;\n",
       "    }\n",
       "\n",
       "    .dataframe thead th {\n",
       "        text-align: right;\n",
       "    }\n",
       "</style>\n",
       "<table border=\"1\" class=\"dataframe\">\n",
       "  <thead>\n",
       "    <tr style=\"text-align: right;\">\n",
       "      <th></th>\n",
       "      <th>v1</th>\n",
       "      <th>v2</th>\n",
       "      <th>Unnamed: 2</th>\n",
       "      <th>Unnamed: 3</th>\n",
       "      <th>Unnamed: 4</th>\n",
       "    </tr>\n",
       "  </thead>\n",
       "  <tbody>\n",
       "    <tr>\n",
       "      <th>0</th>\n",
       "      <td>ham</td>\n",
       "      <td>Go until jurong point, crazy.. Available only ...</td>\n",
       "      <td>NaN</td>\n",
       "      <td>NaN</td>\n",
       "      <td>NaN</td>\n",
       "    </tr>\n",
       "    <tr>\n",
       "      <th>1</th>\n",
       "      <td>ham</td>\n",
       "      <td>Ok lar... Joking wif u oni...</td>\n",
       "      <td>NaN</td>\n",
       "      <td>NaN</td>\n",
       "      <td>NaN</td>\n",
       "    </tr>\n",
       "    <tr>\n",
       "      <th>2</th>\n",
       "      <td>spam</td>\n",
       "      <td>Free entry in 2 a wkly comp to win FA Cup fina...</td>\n",
       "      <td>NaN</td>\n",
       "      <td>NaN</td>\n",
       "      <td>NaN</td>\n",
       "    </tr>\n",
       "    <tr>\n",
       "      <th>3</th>\n",
       "      <td>ham</td>\n",
       "      <td>U dun say so early hor... U c already then say...</td>\n",
       "      <td>NaN</td>\n",
       "      <td>NaN</td>\n",
       "      <td>NaN</td>\n",
       "    </tr>\n",
       "    <tr>\n",
       "      <th>4</th>\n",
       "      <td>ham</td>\n",
       "      <td>Nah I don't think he goes to usf, he lives aro...</td>\n",
       "      <td>NaN</td>\n",
       "      <td>NaN</td>\n",
       "      <td>NaN</td>\n",
       "    </tr>\n",
       "  </tbody>\n",
       "</table>\n",
       "</div>"
      ],
      "text/plain": [
       "     v1                                                 v2 Unnamed: 2  \\\n",
       "0   ham  Go until jurong point, crazy.. Available only ...        NaN   \n",
       "1   ham                      Ok lar... Joking wif u oni...        NaN   \n",
       "2  spam  Free entry in 2 a wkly comp to win FA Cup fina...        NaN   \n",
       "3   ham  U dun say so early hor... U c already then say...        NaN   \n",
       "4   ham  Nah I don't think he goes to usf, he lives aro...        NaN   \n",
       "\n",
       "  Unnamed: 3 Unnamed: 4  \n",
       "0        NaN        NaN  \n",
       "1        NaN        NaN  \n",
       "2        NaN        NaN  \n",
       "3        NaN        NaN  \n",
       "4        NaN        NaN  "
      ]
     },
     "execution_count": 3,
     "metadata": {},
     "output_type": "execute_result"
    }
   ],
   "source": [
    "# Read dataset using pandas\n",
    "df=pd.read_csv('spam.csv', encoding='latin-1')\n",
    "df.head()"
   ]
  },
  {
   "cell_type": "markdown",
   "metadata": {},
   "source": [
    "### Check info and shape of the data"
   ]
  },
  {
   "cell_type": "code",
   "execution_count": 4,
   "metadata": {},
   "outputs": [
    {
     "data": {
      "text/html": [
       "<div>\n",
       "<style scoped>\n",
       "    .dataframe tbody tr th:only-of-type {\n",
       "        vertical-align: middle;\n",
       "    }\n",
       "\n",
       "    .dataframe tbody tr th {\n",
       "        vertical-align: top;\n",
       "    }\n",
       "\n",
       "    .dataframe thead th {\n",
       "        text-align: right;\n",
       "    }\n",
       "</style>\n",
       "<table border=\"1\" class=\"dataframe\">\n",
       "  <thead>\n",
       "    <tr style=\"text-align: right;\">\n",
       "      <th></th>\n",
       "      <th>LABEL</th>\n",
       "      <th>SMS</th>\n",
       "      <th>Unnamed: 2</th>\n",
       "      <th>Unnamed: 3</th>\n",
       "      <th>Unnamed: 4</th>\n",
       "    </tr>\n",
       "  </thead>\n",
       "  <tbody>\n",
       "    <tr>\n",
       "      <th>0</th>\n",
       "      <td>ham</td>\n",
       "      <td>Go until jurong point, crazy.. Available only ...</td>\n",
       "      <td>NaN</td>\n",
       "      <td>NaN</td>\n",
       "      <td>NaN</td>\n",
       "    </tr>\n",
       "    <tr>\n",
       "      <th>1</th>\n",
       "      <td>ham</td>\n",
       "      <td>Ok lar... Joking wif u oni...</td>\n",
       "      <td>NaN</td>\n",
       "      <td>NaN</td>\n",
       "      <td>NaN</td>\n",
       "    </tr>\n",
       "  </tbody>\n",
       "</table>\n",
       "</div>"
      ],
      "text/plain": [
       "  LABEL                                                SMS Unnamed: 2  \\\n",
       "0   ham  Go until jurong point, crazy.. Available only ...        NaN   \n",
       "1   ham                      Ok lar... Joking wif u oni...        NaN   \n",
       "\n",
       "  Unnamed: 3 Unnamed: 4  \n",
       "0        NaN        NaN  \n",
       "1        NaN        NaN  "
      ]
     },
     "execution_count": 4,
     "metadata": {},
     "output_type": "execute_result"
    }
   ],
   "source": [
    "#Rename columns names \n",
    "df = df.rename(columns={\"v1\":\"LABEL\", \"v2\":\"SMS\"})\n",
    "df.head(2)"
   ]
  },
  {
   "cell_type": "code",
   "execution_count": 5,
   "metadata": {},
   "outputs": [
    {
     "data": {
      "text/plain": [
       "(5572, 5)"
      ]
     },
     "execution_count": 5,
     "metadata": {},
     "output_type": "execute_result"
    }
   ],
   "source": [
    "#Checking the shape of the dataset\n",
    "df.shape"
   ]
  },
  {
   "cell_type": "code",
   "execution_count": 6,
   "metadata": {},
   "outputs": [
    {
     "name": "stdout",
     "output_type": "stream",
     "text": [
      "<class 'pandas.core.frame.DataFrame'>\n",
      "RangeIndex: 5572 entries, 0 to 5571\n",
      "Data columns (total 5 columns):\n",
      " #   Column      Non-Null Count  Dtype \n",
      "---  ------      --------------  ----- \n",
      " 0   LABEL       5572 non-null   object\n",
      " 1   SMS         5572 non-null   object\n",
      " 2   Unnamed: 2  50 non-null     object\n",
      " 3   Unnamed: 3  12 non-null     object\n",
      " 4   Unnamed: 4  6 non-null      object\n",
      "dtypes: object(5)\n",
      "memory usage: 217.8+ KB\n"
     ]
    }
   ],
   "source": [
    "#Checking info of the dataframe\n",
    "df.info()"
   ]
  },
  {
   "cell_type": "markdown",
   "metadata": {},
   "source": [
    "## Drop irrelevant columns"
   ]
  },
  {
   "cell_type": "code",
   "execution_count": 7,
   "metadata": {},
   "outputs": [],
   "source": [
    "df = df[['LABEL','SMS']]"
   ]
  },
  {
   "cell_type": "markdown",
   "metadata": {},
   "source": [
    "### Check frequency distribution of target column. Report whether the class is balanced or not?"
   ]
  },
  {
   "cell_type": "code",
   "execution_count": 8,
   "metadata": {},
   "outputs": [
    {
     "name": "stdout",
     "output_type": "stream",
     "text": [
      "ham     4825\n",
      "spam     747\n",
      "Name: LABEL, dtype: int64\n"
     ]
    },
    {
     "data": {
      "text/html": [
       "<div>\n",
       "<style scoped>\n",
       "    .dataframe tbody tr th:only-of-type {\n",
       "        vertical-align: middle;\n",
       "    }\n",
       "\n",
       "    .dataframe tbody tr th {\n",
       "        vertical-align: top;\n",
       "    }\n",
       "\n",
       "    .dataframe thead th {\n",
       "        text-align: right;\n",
       "    }\n",
       "</style>\n",
       "<table border=\"1\" class=\"dataframe\">\n",
       "  <thead>\n",
       "    <tr style=\"text-align: right;\">\n",
       "      <th></th>\n",
       "      <th>SMS</th>\n",
       "    </tr>\n",
       "    <tr>\n",
       "      <th>LABEL</th>\n",
       "      <th></th>\n",
       "    </tr>\n",
       "  </thead>\n",
       "  <tbody>\n",
       "    <tr>\n",
       "      <th>ham</th>\n",
       "      <td>4825</td>\n",
       "    </tr>\n",
       "    <tr>\n",
       "      <th>spam</th>\n",
       "      <td>747</td>\n",
       "    </tr>\n",
       "  </tbody>\n",
       "</table>\n",
       "</div>"
      ],
      "text/plain": [
       "        SMS\n",
       "LABEL      \n",
       "ham    4825\n",
       "spam    747"
      ]
     },
     "execution_count": 8,
     "metadata": {},
     "output_type": "execute_result"
    },
    {
     "data": {
      "image/png": "[encoded data removed]",
      "text/plain": [
       "<Figure size 432x288 with 1 Axes>"
      ]
     },
     "metadata": {
      "needs_background": "light"
     },
     "output_type": "display_data"
    }
   ],
   "source": [
    "# #Number of observations in each label spam and ham\n",
    "count = df.LABEL.value_counts()\n",
    "print(count)\n",
    "df.LABEL.value_counts().plot(kind = 'bar')\n",
    "# Enable above 4 lines and plt graph as well\n",
    "df.groupby([\"LABEL\"]).count()"
   ]
  },
  {
   "cell_type": "markdown",
   "metadata": {},
   "source": [
    "\n",
    "Most are not 'spam'. The ratio is almost 1:6 in favor or class 'ham'.  The model's ability to predict class 'ham' will be better than predicting class 'spam'. \n",
    "\n",
    "We see that class is not balanced. Number of spam messages is less than number of normal messages"
   ]
  },
  {
   "cell_type": "code",
   "execution_count": 9,
   "metadata": {},
   "outputs": [
    {
     "data": {
      "text/html": [
       "<div>\n",
       "<style scoped>\n",
       "    .dataframe tbody tr th:only-of-type {\n",
       "        vertical-align: middle;\n",
       "    }\n",
       "\n",
       "    .dataframe tbody tr th {\n",
       "        vertical-align: top;\n",
       "    }\n",
       "\n",
       "    .dataframe thead th {\n",
       "        text-align: right;\n",
       "    }\n",
       "</style>\n",
       "<table border=\"1\" class=\"dataframe\">\n",
       "  <thead>\n",
       "    <tr style=\"text-align: right;\">\n",
       "      <th></th>\n",
       "      <th>LABEL</th>\n",
       "      <th>SMS</th>\n",
       "    </tr>\n",
       "  </thead>\n",
       "  <tbody>\n",
       "    <tr>\n",
       "      <th>count</th>\n",
       "      <td>5572</td>\n",
       "      <td>5572</td>\n",
       "    </tr>\n",
       "    <tr>\n",
       "      <th>unique</th>\n",
       "      <td>2</td>\n",
       "      <td>5169</td>\n",
       "    </tr>\n",
       "    <tr>\n",
       "      <th>top</th>\n",
       "      <td>ham</td>\n",
       "      <td>Sorry, I'll call later</td>\n",
       "    </tr>\n",
       "    <tr>\n",
       "      <th>freq</th>\n",
       "      <td>4825</td>\n",
       "      <td>30</td>\n",
       "    </tr>\n",
       "  </tbody>\n",
       "</table>\n",
       "</div>"
      ],
      "text/plain": [
       "       LABEL                     SMS\n",
       "count   5572                    5572\n",
       "unique     2                    5169\n",
       "top      ham  Sorry, I'll call later\n",
       "freq    4825                      30"
      ]
     },
     "execution_count": 9,
     "metadata": {},
     "output_type": "execute_result"
    }
   ],
   "source": [
    "df.describe()"
   ]
  },
  {
   "cell_type": "code",
   "execution_count": 10,
   "metadata": {},
   "outputs": [],
   "source": [
    "DFDuplicate = df[df.duplicated()]"
   ]
  },
  {
   "cell_type": "code",
   "execution_count": 11,
   "metadata": {},
   "outputs": [
    {
     "data": {
      "text/plain": [
       "ham     309\n",
       "spam     94\n",
       "Name: LABEL, dtype: int64"
      ]
     },
     "execution_count": 11,
     "metadata": {},
     "output_type": "execute_result"
    }
   ],
   "source": [
    "#Checking value counts of dataframe having duplicate rows\n",
    "DFDuplicate.LABEL.value_counts()"
   ]
  },
  {
   "cell_type": "code",
   "execution_count": 12,
   "metadata": {},
   "outputs": [
    {
     "data": {
      "text/plain": [
       "(403, 2)"
      ]
     },
     "execution_count": 12,
     "metadata": {},
     "output_type": "execute_result"
    }
   ],
   "source": [
    "DFDuplicate.head(30)\n",
    "DFDuplicate.shape\n",
    "#403 duplciate values present"
   ]
  },
  {
   "cell_type": "code",
   "execution_count": 13,
   "metadata": {},
   "outputs": [
    {
     "data": {
      "text/plain": [
       "(5169, 2)"
      ]
     },
     "execution_count": 13,
     "metadata": {},
     "output_type": "execute_result"
    }
   ],
   "source": [
    "df = df.drop_duplicates()\n",
    "df.shape"
   ]
  },
  {
   "cell_type": "markdown",
   "metadata": {},
   "source": [
    "### Create a new column having length of the text message and see it’s distribution for the two classes ( ham and spam) and comment your findings."
   ]
  },
  {
   "cell_type": "code",
   "execution_count": 14,
   "metadata": {},
   "outputs": [
    {
     "data": {
      "text/html": [
       "<div>\n",
       "<style scoped>\n",
       "    .dataframe tbody tr th:only-of-type {\n",
       "        vertical-align: middle;\n",
       "    }\n",
       "\n",
       "    .dataframe tbody tr th {\n",
       "        vertical-align: top;\n",
       "    }\n",
       "\n",
       "    .dataframe thead th {\n",
       "        text-align: right;\n",
       "    }\n",
       "</style>\n",
       "<table border=\"1\" class=\"dataframe\">\n",
       "  <thead>\n",
       "    <tr style=\"text-align: right;\">\n",
       "      <th></th>\n",
       "      <th>LABEL</th>\n",
       "      <th>SMS</th>\n",
       "      <th>length</th>\n",
       "    </tr>\n",
       "  </thead>\n",
       "  <tbody>\n",
       "    <tr>\n",
       "      <th>0</th>\n",
       "      <td>ham</td>\n",
       "      <td>Go until jurong point, crazy.. Available only ...</td>\n",
       "      <td>111</td>\n",
       "    </tr>\n",
       "    <tr>\n",
       "      <th>1</th>\n",
       "      <td>ham</td>\n",
       "      <td>Ok lar... Joking wif u oni...</td>\n",
       "      <td>29</td>\n",
       "    </tr>\n",
       "    <tr>\n",
       "      <th>2</th>\n",
       "      <td>spam</td>\n",
       "      <td>Free entry in 2 a wkly comp to win FA Cup fina...</td>\n",
       "      <td>155</td>\n",
       "    </tr>\n",
       "    <tr>\n",
       "      <th>3</th>\n",
       "      <td>ham</td>\n",
       "      <td>U dun say so early hor... U c already then say...</td>\n",
       "      <td>49</td>\n",
       "    </tr>\n",
       "    <tr>\n",
       "      <th>4</th>\n",
       "      <td>ham</td>\n",
       "      <td>Nah I don't think he goes to usf, he lives aro...</td>\n",
       "      <td>61</td>\n",
       "    </tr>\n",
       "  </tbody>\n",
       "</table>\n",
       "</div>"
      ],
      "text/plain": [
       "  LABEL                                                SMS  length\n",
       "0   ham  Go until jurong point, crazy.. Available only ...     111\n",
       "1   ham                      Ok lar... Joking wif u oni...      29\n",
       "2  spam  Free entry in 2 a wkly comp to win FA Cup fina...     155\n",
       "3   ham  U dun say so early hor... U c already then say...      49\n",
       "4   ham  Nah I don't think he goes to usf, he lives aro...      61"
      ]
     },
     "execution_count": 14,
     "metadata": {},
     "output_type": "execute_result"
    }
   ],
   "source": [
    "df['length'] = df.SMS.apply(len)\n",
    "df.head()"
   ]
  },
  {
   "cell_type": "code",
   "execution_count": 15,
   "metadata": {},
   "outputs": [
    {
     "data": {
      "text/html": [
       "<div>\n",
       "<style scoped>\n",
       "    .dataframe tbody tr th:only-of-type {\n",
       "        vertical-align: middle;\n",
       "    }\n",
       "\n",
       "    .dataframe tbody tr th {\n",
       "        vertical-align: top;\n",
       "    }\n",
       "\n",
       "    .dataframe thead th {\n",
       "        text-align: right;\n",
       "    }\n",
       "</style>\n",
       "<table border=\"1\" class=\"dataframe\">\n",
       "  <thead>\n",
       "    <tr style=\"text-align: right;\">\n",
       "      <th></th>\n",
       "      <th>length</th>\n",
       "    </tr>\n",
       "  </thead>\n",
       "  <tbody>\n",
       "    <tr>\n",
       "      <th>count</th>\n",
       "      <td>5169.0000000</td>\n",
       "    </tr>\n",
       "    <tr>\n",
       "      <th>mean</th>\n",
       "      <td>78.9779454</td>\n",
       "    </tr>\n",
       "    <tr>\n",
       "      <th>std</th>\n",
       "      <td>58.2362932</td>\n",
       "    </tr>\n",
       "    <tr>\n",
       "      <th>min</th>\n",
       "      <td>2.0000000</td>\n",
       "    </tr>\n",
       "    <tr>\n",
       "      <th>25%</th>\n",
       "      <td>36.0000000</td>\n",
       "    </tr>\n",
       "    <tr>\n",
       "      <th>50%</th>\n",
       "      <td>60.0000000</td>\n",
       "    </tr>\n",
       "    <tr>\n",
       "      <th>75%</th>\n",
       "      <td>117.0000000</td>\n",
       "    </tr>\n",
       "    <tr>\n",
       "      <th>max</th>\n",
       "      <td>910.0000000</td>\n",
       "    </tr>\n",
       "  </tbody>\n",
       "</table>\n",
       "</div>"
      ],
      "text/plain": [
       "            length\n",
       "count 5169.0000000\n",
       "mean    78.9779454\n",
       "std     58.2362932\n",
       "min      2.0000000\n",
       "25%     36.0000000\n",
       "50%     60.0000000\n",
       "75%    117.0000000\n",
       "max    910.0000000"
      ]
     },
     "execution_count": 15,
     "metadata": {},
     "output_type": "execute_result"
    }
   ],
   "source": [
    "df.describe()"
   ]
  },
  {
   "cell_type": "code",
   "execution_count": 16,
   "metadata": {},
   "outputs": [
    {
     "data": {
      "text/plain": [
       "array([<AxesSubplot:title={'center':'ham'}>,\n",
       "       <AxesSubplot:title={'center':'spam'}>], dtype=object)"
      ]
     },
     "execution_count": 16,
     "metadata": {},
     "output_type": "execute_result"
    },
    {
     "data": {
      "image/png": "[encoded data removed]",
      "text/plain": [
       "<Figure size 720x288 with 2 Axes>"
      ]
     },
     "metadata": {
      "needs_background": "light"
     },
     "output_type": "display_data"
    }
   ],
   "source": [
    "#Checking distribution of length for both the classes\n",
    "df.hist(column='length', by='LABEL', bins=50,figsize=(10,4))"
   ]
  },
  {
   "cell_type": "markdown",
   "metadata": {},
   "source": [
    "### This histogram is representation of number of times/frequency of how length of message is distributed in overall spectrum.  As can be seen that shorter messages are more when message is ham.Also ham message length is mostly located between 0 to 200, whereas it can be observed that the spam category of messages have mean length of 150 and most messages are at least of length 100 and more."
   ]
  },
  {
   "cell_type": "markdown",
   "metadata": {},
   "source": [
    "### Encode the label column and make it numerical"
   ]
  },
  {
   "cell_type": "code",
   "execution_count": 17,
   "metadata": {},
   "outputs": [
    {
     "name": "stdout",
     "output_type": "stream",
     "text": [
      "(5169, 3)\n"
     ]
    },
    {
     "data": {
      "text/html": [
       "<div>\n",
       "<style scoped>\n",
       "    .dataframe tbody tr th:only-of-type {\n",
       "        vertical-align: middle;\n",
       "    }\n",
       "\n",
       "    .dataframe tbody tr th {\n",
       "        vertical-align: top;\n",
       "    }\n",
       "\n",
       "    .dataframe thead th {\n",
       "        text-align: right;\n",
       "    }\n",
       "</style>\n",
       "<table border=\"1\" class=\"dataframe\">\n",
       "  <thead>\n",
       "    <tr style=\"text-align: right;\">\n",
       "      <th></th>\n",
       "      <th>LABEL</th>\n",
       "      <th>SMS</th>\n",
       "      <th>length</th>\n",
       "    </tr>\n",
       "  </thead>\n",
       "  <tbody>\n",
       "    <tr>\n",
       "      <th>0</th>\n",
       "      <td>0</td>\n",
       "      <td>Go until jurong point, crazy.. Available only ...</td>\n",
       "      <td>111</td>\n",
       "    </tr>\n",
       "    <tr>\n",
       "      <th>1</th>\n",
       "      <td>0</td>\n",
       "      <td>Ok lar... Joking wif u oni...</td>\n",
       "      <td>29</td>\n",
       "    </tr>\n",
       "    <tr>\n",
       "      <th>2</th>\n",
       "      <td>1</td>\n",
       "      <td>Free entry in 2 a wkly comp to win FA Cup fina...</td>\n",
       "      <td>155</td>\n",
       "    </tr>\n",
       "    <tr>\n",
       "      <th>3</th>\n",
       "      <td>0</td>\n",
       "      <td>U dun say so early hor... U c already then say...</td>\n",
       "      <td>49</td>\n",
       "    </tr>\n",
       "    <tr>\n",
       "      <th>4</th>\n",
       "      <td>0</td>\n",
       "      <td>Nah I don't think he goes to usf, he lives aro...</td>\n",
       "      <td>61</td>\n",
       "    </tr>\n",
       "  </tbody>\n",
       "</table>\n",
       "</div>"
      ],
      "text/plain": [
       "   LABEL                                                SMS  length\n",
       "0      0  Go until jurong point, crazy.. Available only ...     111\n",
       "1      0                      Ok lar... Joking wif u oni...      29\n",
       "2      1  Free entry in 2 a wkly comp to win FA Cup fina...     155\n",
       "3      0  U dun say so early hor... U c already then say...      49\n",
       "4      0  Nah I don't think he goes to usf, he lives aro...      61"
      ]
     },
     "execution_count": 17,
     "metadata": {},
     "output_type": "execute_result"
    }
   ],
   "source": [
    "#Encode labels\n",
    "df.loc[:,'LABEL'] = df.LABEL.map({'ham':0, 'spam':1})\n",
    "print(df.shape)\n",
    "df.head()"
   ]
  },
  {
   "cell_type": "code",
   "execution_count": 18,
   "metadata": {},
   "outputs": [
    {
     "data": {
      "text/plain": [
       "0    Go until jurong point, crazy.. Available only ...\n",
       "1                        Ok lar... Joking wif u oni...\n",
       "2    Free entry in 2 a wkly comp to win FA Cup fina...\n",
       "3    U dun say so early hor... U c already then say...\n",
       "4    Nah I don't think he goes to usf, he lives aro...\n",
       "5    FreeMsg Hey there darling it's been 3 week's n...\n",
       "6    Even my brother is not like to speak with me. ...\n",
       "7    As per your request 'Melle Melle (Oru Minnamin...\n",
       "8    WINNER!! As a valued network customer you have...\n",
       "9    Had your mobile 11 months or more? U R entitle...\n",
       "Name: SMS, dtype: object"
      ]
     },
     "execution_count": 18,
     "metadata": {},
     "output_type": "execute_result"
    }
   ],
   "source": [
    "#Checking top 10 values of sms\n",
    "df['SMS'].head(10)"
   ]
  },
  {
   "cell_type": "markdown",
   "metadata": {},
   "source": [
    "## Preprocess the text data to make it suitable for model building"
   ]
  },
  {
   "cell_type": "markdown",
   "metadata": {},
   "source": [
    "### Convert the text message into lower case letters"
   ]
  },
  {
   "cell_type": "code",
   "execution_count": 19,
   "metadata": {},
   "outputs": [
    {
     "data": {
      "text/plain": [
       "0    go until jurong point, crazy.. available only ...\n",
       "1                        ok lar... joking wif u oni...\n",
       "2    free entry in 2 a wkly comp to win fa cup fina...\n",
       "3    u dun say so early hor... u c already then say...\n",
       "4    nah i don't think he goes to usf, he lives aro...\n",
       "Name: SMS, dtype: object"
      ]
     },
     "execution_count": 19,
     "metadata": {},
     "output_type": "execute_result"
    }
   ],
   "source": [
    "df['SMS'] = df['SMS'].apply(lambda x: \" \".join(x.lower() for x in x.split()))\n",
    "df['SMS'].head()"
   ]
  },
  {
   "cell_type": "markdown",
   "metadata": {},
   "source": [
    "### Remove punctuations"
   ]
  },
  {
   "cell_type": "code",
   "execution_count": 20,
   "metadata": {},
   "outputs": [
    {
     "data": {
      "text/plain": [
       "0    go until jurong point crazy available only in ...\n",
       "1                              ok lar joking wif u oni\n",
       "2    free entry in 2 a wkly comp to win fa cup fina...\n",
       "3          u dun say so early hor u c already then say\n",
       "4    nah i dont think he goes to usf he lives aroun...\n",
       "Name: SMS, dtype: object"
      ]
     },
     "execution_count": 20,
     "metadata": {},
     "output_type": "execute_result"
    }
   ],
   "source": [
    "df['SMS'] = df['SMS'].str.replace('[^\\w\\s]','')\n",
    "df['SMS'].head()"
   ]
  },
  {
   "cell_type": "markdown",
   "metadata": {},
   "source": [
    "### Remove stop words from the text message"
   ]
  },
  {
   "cell_type": "code",
   "execution_count": 21,
   "metadata": {},
   "outputs": [
    {
     "name": "stderr",
     "output_type": "stream",
     "text": [
      "[nltk_data] Downloading package stopwords to\n",
      "[nltk_data]     C:\\Users\\nazrin.n\\AppData\\Roaming\\nltk_data...\n",
      "[nltk_data]   Package stopwords is already up-to-date!\n"
     ]
    },
    {
     "data": {
      "text/plain": [
       "0    go jurong point crazy available bugis n great ...\n",
       "1                              ok lar joking wif u oni\n",
       "2    free entry 2 wkly comp win fa cup final tkts 2...\n",
       "3                  u dun say early hor u c already say\n",
       "4          nah dont think goes usf lives around though\n",
       "Name: SMS, dtype: object"
      ]
     },
     "execution_count": 21,
     "metadata": {},
     "output_type": "execute_result"
    }
   ],
   "source": [
    "from nltk.corpus import stopwords\n",
    "nltk.download('stopwords')\n",
    "stop = stopwords.words(\"english\")\n",
    "df['SMS'] = df['SMS'].apply(lambda x: \" \".join(x for x in x.split() if x not in stop))\n",
    "df['SMS'].head()"
   ]
  },
  {
   "cell_type": "code",
   "execution_count": 22,
   "metadata": {},
   "outputs": [
    {
     "data": {
      "text/plain": [
       "u       1001\n",
       "call     487\n",
       "im       447\n",
       "2        443\n",
       "get      364\n",
       "ur       316\n",
       "go       269\n",
       "dont     258\n",
       "4        257\n",
       "ltgt     254\n",
       "dtype: int64"
      ]
     },
     "execution_count": 22,
     "metadata": {},
     "output_type": "execute_result"
    }
   ],
   "source": [
    "#Checking frequency of words in the entire sms column and fetching top 10 frequencies\n",
    "freq = pd.Series(' '.join(df['SMS']).split()).value_counts()[:10]\n",
    "freq"
   ]
  },
  {
   "cell_type": "code",
   "execution_count": 23,
   "metadata": {},
   "outputs": [],
   "source": [
    "df = df[['SMS','LABEL']]"
   ]
  },
  {
   "cell_type": "markdown",
   "metadata": {},
   "source": [
    "### Create feature vectors of the text data. [ hint - you can use any vectorizer or tokenizer]"
   ]
  },
  {
   "cell_type": "code",
   "execution_count": 24,
   "metadata": {},
   "outputs": [],
   "source": [
    "max_features = 10000\n",
    "maxlen = 25\n",
    "embedding_size = 50"
   ]
  },
  {
   "cell_type": "code",
   "execution_count": 25,
   "metadata": {},
   "outputs": [
    {
     "name": "stdout",
     "output_type": "stream",
     "text": [
      "Number of Samples: 5169\n",
      "[7, 3746, 623, 554, 591, 1025, 41, 56, 358, 1026, 76, 2470, 1027, 14, 3747, 65]\n"
     ]
    }
   ],
   "source": [
    "from tensorflow.keras.preprocessing.text import Tokenizer\n",
    "\n",
    "tokenizer = Tokenizer(num_words=max_features)\n",
    "tokenizer.fit_on_texts(list(df['SMS']))\n",
    "X = tokenizer.texts_to_sequences(df['SMS'])\n",
    "\n",
    "print(\"Number of Samples:\", len(X))       \n",
    "print(X[0]) "
   ]
  },
  {
   "cell_type": "code",
   "execution_count": 26,
   "metadata": {},
   "outputs": [
    {
     "name": "stdout",
     "output_type": "stream",
     "text": [
      "Number of Labels:  5169\n",
      "0\n"
     ]
    }
   ],
   "source": [
    "from tensorflow.keras.preprocessing.sequence import pad_sequences\n",
    "import numpy as np\n",
    "\n",
    "X = pad_sequences(X, maxlen = maxlen)     \n",
    "y = np.asarray(df['LABEL'])\n",
    "\n",
    "print(\"Number of Labels: \", len(y))     \n",
    "print(y[0])"
   ]
  },
  {
   "cell_type": "code",
   "execution_count": 27,
   "metadata": {},
   "outputs": [
    {
     "data": {
      "text/plain": [
       "{'u': 1,\n",
       " 'call': 2,\n",
       " 'im': 3,\n",
       " '2': 4,\n",
       " 'get': 5,\n",
       " 'ur': 6,\n",
       " 'go': 7,\n",
       " 'dont': 8,\n",
       " '4': 9,\n",
       " 'ltgt': 10,\n",
       " 'ok': 11,\n",
       " 'free': 12,\n",
       " 'know': 13,\n",
       " 'got': 14,\n",
       " 'like': 15,\n",
       " 'good': 16,\n",
       " 'come': 17,\n",
       " 'ill': 18,\n",
       " 'time': 19,\n",
       " 'want': 20,\n",
       " 'day': 21,\n",
       " 'love': 22,\n",
       " 'text': 23,\n",
       " 'send': 24,\n",
       " 'going': 25,\n",
       " 'one': 26,\n",
       " 'need': 27,\n",
       " 'lor': 28,\n",
       " 'home': 29,\n",
       " 'see': 30,\n",
       " 'back': 31,\n",
       " 'still': 32,\n",
       " 'txt': 33,\n",
       " 'r': 34,\n",
       " 'stop': 35,\n",
       " 'think': 36,\n",
       " 'today': 37,\n",
       " 'well': 38,\n",
       " 'reply': 39,\n",
       " 'tell': 40,\n",
       " 'n': 41,\n",
       " 'new': 42,\n",
       " 'hi': 43,\n",
       " 'da': 44,\n",
       " 'ì': 45,\n",
       " 'sorry': 46,\n",
       " 'take': 47,\n",
       " 'mobile': 48,\n",
       " 'please': 49,\n",
       " 'phone': 50,\n",
       " 'hey': 51,\n",
       " 'oh': 52,\n",
       " 'much': 53,\n",
       " 'cant': 54,\n",
       " 'night': 55,\n",
       " 'great': 56,\n",
       " 'hope': 57,\n",
       " 'week': 58,\n",
       " 'later': 59,\n",
       " 'claim': 60,\n",
       " 'make': 61,\n",
       " 'give': 62,\n",
       " 'way': 63,\n",
       " 'happy': 64,\n",
       " 'wat': 65,\n",
       " 'thats': 66,\n",
       " 'already': 67,\n",
       " 'dear': 68,\n",
       " 'ask': 69,\n",
       " 'number': 70,\n",
       " 'work': 71,\n",
       " 'yeah': 72,\n",
       " 'pls': 73,\n",
       " 'really': 74,\n",
       " 'say': 75,\n",
       " 'e': 76,\n",
       " 'prize': 77,\n",
       " 'right': 78,\n",
       " 'tomorrow': 79,\n",
       " 'yes': 80,\n",
       " 'babe': 81,\n",
       " 'cos': 82,\n",
       " 'meet': 83,\n",
       " 'thanks': 84,\n",
       " 'said': 85,\n",
       " 'c': 86,\n",
       " 'ive': 87,\n",
       " 'didnt': 88,\n",
       " 'would': 89,\n",
       " 'lol': 90,\n",
       " 'last': 91,\n",
       " 'anything': 92,\n",
       " 'miss': 93,\n",
       " 'sure': 94,\n",
       " 'msg': 95,\n",
       " '1': 96,\n",
       " 'find': 97,\n",
       " 'k': 98,\n",
       " 'message': 99,\n",
       " 'let': 100,\n",
       " 'something': 101,\n",
       " 'also': 102,\n",
       " 'morning': 103,\n",
       " 'life': 104,\n",
       " 'b': 105,\n",
       " 'keep': 106,\n",
       " 'every': 107,\n",
       " 'cash': 108,\n",
       " 'next': 109,\n",
       " 'around': 110,\n",
       " 'contact': 111,\n",
       " '3': 112,\n",
       " 'urgent': 113,\n",
       " 'pick': 114,\n",
       " 'buy': 115,\n",
       " 'sent': 116,\n",
       " 'care': 117,\n",
       " 'thing': 118,\n",
       " 'tonight': 119,\n",
       " 'could': 120,\n",
       " 'gonna': 121,\n",
       " 'feel': 122,\n",
       " 'first': 123,\n",
       " 'wait': 124,\n",
       " 'us': 125,\n",
       " 'money': 126,\n",
       " 'even': 127,\n",
       " 'soon': 128,\n",
       " 'nokia': 129,\n",
       " 'dun': 130,\n",
       " 'amp': 131,\n",
       " 'ya': 132,\n",
       " 'sleep': 133,\n",
       " 'win': 134,\n",
       " 'wan': 135,\n",
       " 'wont': 136,\n",
       " 'late': 137,\n",
       " 'youre': 138,\n",
       " 'leave': 139,\n",
       " 'many': 140,\n",
       " 'someone': 141,\n",
       " 'ìï': 142,\n",
       " 'always': 143,\n",
       " 'place': 144,\n",
       " 'service': 145,\n",
       " 'per': 146,\n",
       " 'getting': 147,\n",
       " 'waiting': 148,\n",
       " 'yet': 149,\n",
       " 'things': 150,\n",
       " 'thk': 151,\n",
       " 'told': 152,\n",
       " 'v': 153,\n",
       " 'chat': 154,\n",
       " 'coming': 155,\n",
       " 'customer': 156,\n",
       " 'help': 157,\n",
       " 'went': 158,\n",
       " 'haha': 159,\n",
       " 'done': 160,\n",
       " 'thought': 161,\n",
       " 'nice': 162,\n",
       " 'havent': 163,\n",
       " 'friends': 164,\n",
       " 'try': 165,\n",
       " 'x': 166,\n",
       " 'class': 167,\n",
       " 'year': 168,\n",
       " 'friend': 169,\n",
       " 'talk': 170,\n",
       " 'hows': 171,\n",
       " 'stuff': 172,\n",
       " 'hello': 173,\n",
       " 'mins': 174,\n",
       " 'wish': 175,\n",
       " 'fine': 176,\n",
       " 'finish': 177,\n",
       " 'trying': 178,\n",
       " 'bit': 179,\n",
       " 'guaranteed': 180,\n",
       " 'long': 181,\n",
       " 'better': 182,\n",
       " 'gud': 183,\n",
       " 'may': 184,\n",
       " 'use': 185,\n",
       " 'yup': 186,\n",
       " 'cool': 187,\n",
       " 'people': 188,\n",
       " 'name': 189,\n",
       " 'never': 190,\n",
       " 'best': 191,\n",
       " 'ready': 192,\n",
       " 'lar': 193,\n",
       " '16': 194,\n",
       " 'lunch': 195,\n",
       " 'eat': 196,\n",
       " 'end': 197,\n",
       " 'meeting': 198,\n",
       " 'wanna': 199,\n",
       " 'job': 200,\n",
       " 'nothing': 201,\n",
       " 'draw': 202,\n",
       " '18': 203,\n",
       " 'tone': 204,\n",
       " 'enjoy': 205,\n",
       " 'car': 206,\n",
       " 'live': 207,\n",
       " 'yo': 208,\n",
       " 'guess': 209,\n",
       " 'holiday': 210,\n",
       " 'line': 211,\n",
       " 'check': 212,\n",
       " 'dinner': 213,\n",
       " 'sms': 214,\n",
       " 'man': 215,\n",
       " 'half': 216,\n",
       " 'another': 217,\n",
       " 'account': 218,\n",
       " 'house': 219,\n",
       " 'liao': 220,\n",
       " 'guys': 221,\n",
       " 'jus': 222,\n",
       " 'big': 223,\n",
       " 'shit': 224,\n",
       " '5': 225,\n",
       " 'min': 226,\n",
       " 'mind': 227,\n",
       " 'real': 228,\n",
       " 'shows': 229,\n",
       " 'dat': 230,\n",
       " 'might': 231,\n",
       " 'quite': 232,\n",
       " 'early': 233,\n",
       " 'room': 234,\n",
       " 'smile': 235,\n",
       " 'aight': 236,\n",
       " 'problem': 237,\n",
       " 'days': 238,\n",
       " 'probably': 239,\n",
       " 'receive': 240,\n",
       " 'latest': 241,\n",
       " 'hes': 242,\n",
       " 'bed': 243,\n",
       " 'whats': 244,\n",
       " 'person': 245,\n",
       " 'watch': 246,\n",
       " 'chance': 247,\n",
       " 'den': 248,\n",
       " 'xxx': 249,\n",
       " 'watching': 250,\n",
       " 'remember': 251,\n",
       " 'pay': 252,\n",
       " 'maybe': 253,\n",
       " 'awarded': 254,\n",
       " 'hear': 255,\n",
       " 'sir': 256,\n",
       " 'box': 257,\n",
       " 'dunno': 258,\n",
       " 'ever': 259,\n",
       " 'actually': 260,\n",
       " 'heart': 261,\n",
       " 'princess': 262,\n",
       " 'kiss': 263,\n",
       " 'word': 264,\n",
       " 'fun': 265,\n",
       " 'speak': 266,\n",
       " 'left': 267,\n",
       " 'look': 268,\n",
       " 'weekend': 269,\n",
       " 'play': 270,\n",
       " 'ah': 271,\n",
       " 'lot': 272,\n",
       " 'landline': 273,\n",
       " 'little': 274,\n",
       " 'start': 275,\n",
       " 'reach': 276,\n",
       " 'thanx': 277,\n",
       " 'video': 278,\n",
       " 'shopping': 279,\n",
       " 'baby': 280,\n",
       " 'minutes': 281,\n",
       " 'bad': 282,\n",
       " 'id': 283,\n",
       " 'cost': 284,\n",
       " 'theres': 285,\n",
       " 'special': 286,\n",
       " 'month': 287,\n",
       " 'pa': 288,\n",
       " '150ppm': 289,\n",
       " 'å2000': 290,\n",
       " 'luv': 291,\n",
       " 'leh': 292,\n",
       " 'called': 293,\n",
       " 'face': 294,\n",
       " 'two': 295,\n",
       " '6': 296,\n",
       " 'shes': 297,\n",
       " 'code': 298,\n",
       " 'thank': 299,\n",
       " 'bus': 300,\n",
       " 'å1000': 301,\n",
       " 'forgot': 302,\n",
       " 'girl': 303,\n",
       " 'offer': 304,\n",
       " 'working': 305,\n",
       " 'tmr': 306,\n",
       " 'everything': 307,\n",
       " 'plan': 308,\n",
       " 'hour': 309,\n",
       " 'sat': 310,\n",
       " '1st': 311,\n",
       " 'fuck': 312,\n",
       " 'dad': 313,\n",
       " 'wif': 314,\n",
       " 'enough': 315,\n",
       " 'sweet': 316,\n",
       " 'since': 317,\n",
       " 'looking': 318,\n",
       " 'anyway': 319,\n",
       " 'join': 320,\n",
       " 'po': 321,\n",
       " 'put': 322,\n",
       " 'shall': 323,\n",
       " 'apply': 324,\n",
       " 'goes': 325,\n",
       " 'though': 326,\n",
       " 'network': 327,\n",
       " 'camera': 328,\n",
       " '2nd': 329,\n",
       " 'wanted': 330,\n",
       " 'abt': 331,\n",
       " 'okay': 332,\n",
       " 'says': 333,\n",
       " 'birthday': 334,\n",
       " 'must': 335,\n",
       " 'able': 336,\n",
       " 'texts': 337,\n",
       " 'bring': 338,\n",
       " 'tcs': 339,\n",
       " 'town': 340,\n",
       " 'doesnt': 341,\n",
       " 'part': 342,\n",
       " 'dis': 343,\n",
       " 'show': 344,\n",
       " 'juz': 345,\n",
       " 'school': 346,\n",
       " 'award': 347,\n",
       " 'boy': 348,\n",
       " 'til': 349,\n",
       " 'easy': 350,\n",
       " 'important': 351,\n",
       " 'collect': 352,\n",
       " 'asked': 353,\n",
       " 'wake': 354,\n",
       " 'made': 355,\n",
       " 'orange': 356,\n",
       " 'plus': 357,\n",
       " 'world': 358,\n",
       " 'selected': 359,\n",
       " 'times': 360,\n",
       " 'hair': 361,\n",
       " 'came': 362,\n",
       " 'afternoon': 363,\n",
       " 'else': 364,\n",
       " 'xmas': 365,\n",
       " 'evening': 366,\n",
       " 'tones': 367,\n",
       " 'wot': 368,\n",
       " 'god': 369,\n",
       " 'details': 370,\n",
       " 'away': 371,\n",
       " 'guy': 372,\n",
       " 'alright': 373,\n",
       " 'saw': 374,\n",
       " 'making': 375,\n",
       " 'todays': 376,\n",
       " 'haf': 377,\n",
       " 'mail': 378,\n",
       " 'sexy': 379,\n",
       " 'without': 380,\n",
       " 'tv': 381,\n",
       " 'years': 382,\n",
       " 'oso': 383,\n",
       " 'dude': 384,\n",
       " 'office': 385,\n",
       " 'stay': 386,\n",
       " 'attempt': 387,\n",
       " 'gift': 388,\n",
       " 'collection': 389,\n",
       " 'lei': 390,\n",
       " 'ringtone': 391,\n",
       " 'yesterday': 392,\n",
       " 'wk': 393,\n",
       " 'price': 394,\n",
       " 'driving': 395,\n",
       " 'worry': 396,\n",
       " 'food': 397,\n",
       " 'hav': 398,\n",
       " 'missed': 399,\n",
       " 'book': 400,\n",
       " '150p': 401,\n",
       " '7': 402,\n",
       " 'bored': 403,\n",
       " 'sch': 404,\n",
       " 'online': 405,\n",
       " 'entry': 406,\n",
       " 'valid': 407,\n",
       " 'update': 408,\n",
       " 'ard': 409,\n",
       " 'till': 410,\n",
       " 'tried': 411,\n",
       " 'pain': 412,\n",
       " 'means': 413,\n",
       " 'run': 414,\n",
       " 'test': 415,\n",
       " 'missing': 416,\n",
       " 'order': 417,\n",
       " 'nite': 418,\n",
       " '500': 419,\n",
       " 'change': 420,\n",
       " 'tot': 421,\n",
       " 'together': 422,\n",
       " 'wants': 423,\n",
       " 'makes': 424,\n",
       " 'goin': 425,\n",
       " '9': 426,\n",
       " 'calls': 427,\n",
       " 'trip': 428,\n",
       " 'mean': 429,\n",
       " 'address': 430,\n",
       " 'old': 431,\n",
       " 'noe': 432,\n",
       " 'happen': 433,\n",
       " 'true': 434,\n",
       " 'hot': 435,\n",
       " 'club': 436,\n",
       " 'full': 437,\n",
       " 'lets': 438,\n",
       " 'hurt': 439,\n",
       " 'weekly': 440,\n",
       " 'movie': 441,\n",
       " 'huh': 442,\n",
       " 'de': 443,\n",
       " 'feeling': 444,\n",
       " 'drive': 445,\n",
       " 'å150': 446,\n",
       " 'tc': 447,\n",
       " 'words': 448,\n",
       " 'aft': 449,\n",
       " 'delivery': 450,\n",
       " 'mob': 451,\n",
       " 'finished': 452,\n",
       " 'wen': 453,\n",
       " 'busy': 454,\n",
       " 'points': 455,\n",
       " 'top': 456,\n",
       " 'believe': 457,\n",
       " 'awesome': 458,\n",
       " 'g': 459,\n",
       " 'ring': 460,\n",
       " 'messages': 461,\n",
       " 'rate': 462,\n",
       " 'thinking': 463,\n",
       " 'family': 464,\n",
       " 'saying': 465,\n",
       " 'rite': 466,\n",
       " '8007': 467,\n",
       " 'weeks': 468,\n",
       " 'hours': 469,\n",
       " 'second': 470,\n",
       " 'comes': 471,\n",
       " 'cause': 472,\n",
       " 'taking': 473,\n",
       " 'ltdecimalgt': 474,\n",
       " 'walk': 475,\n",
       " 'charge': 476,\n",
       " 'plz': 477,\n",
       " 'head': 478,\n",
       " 'beautiful': 479,\n",
       " 'sae': 480,\n",
       " 'either': 481,\n",
       " 'neva': 482,\n",
       " 'game': 483,\n",
       " 'å100': 484,\n",
       " 'sad': 485,\n",
       " 'brother': 486,\n",
       " 'set': 487,\n",
       " 'colour': 488,\n",
       " 'date': 489,\n",
       " 'tho': 490,\n",
       " 'lesson': 491,\n",
       " 'tomo': 492,\n",
       " 'took': 493,\n",
       " 'double': 494,\n",
       " 'bonus': 495,\n",
       " 'lucky': 496,\n",
       " 'started': 497,\n",
       " 'private': 498,\n",
       " 'bt': 499,\n",
       " 'services': 500,\n",
       " 'open': 501,\n",
       " 'lots': 502,\n",
       " 'leaving': 503,\n",
       " 'smoke': 504,\n",
       " 'gr8': 505,\n",
       " 'sis': 506,\n",
       " 'break': 507,\n",
       " 'wil': 508,\n",
       " '750': 509,\n",
       " 'calling': 510,\n",
       " 'drink': 511,\n",
       " 'eve': 512,\n",
       " 'pics': 513,\n",
       " 'whatever': 514,\n",
       " 'pub': 515,\n",
       " 'email': 516,\n",
       " 'await': 517,\n",
       " 'alone': 518,\n",
       " 'treat': 519,\n",
       " 'pounds': 520,\n",
       " 'ha': 521,\n",
       " 'smth': 522,\n",
       " 'forget': 523,\n",
       " '08000930705': 524,\n",
       " 'girls': 525,\n",
       " 'isnt': 526,\n",
       " '12hrs': 527,\n",
       " 'happened': 528,\n",
       " 'statement': 529,\n",
       " 'expires': 530,\n",
       " 'answer': 531,\n",
       " 'question': 532,\n",
       " 'everyone': 533,\n",
       " 'needs': 534,\n",
       " 'boytoy': 535,\n",
       " 'minute': 536,\n",
       " 'touch': 537,\n",
       " 'sounds': 538,\n",
       " 'shop': 539,\n",
       " 'company': 540,\n",
       " 'music': 541,\n",
       " 'anytime': 542,\n",
       " 'unsubscribe': 543,\n",
       " 'choose': 544,\n",
       " 'far': 545,\n",
       " 'card': 546,\n",
       " 'land': 547,\n",
       " 'kind': 548,\n",
       " 'voucher': 549,\n",
       " 'sun': 550,\n",
       " 'gd': 551,\n",
       " 'drop': 552,\n",
       " 'auction': 553,\n",
       " 'crazy': 554,\n",
       " 'final': 555,\n",
       " 'wonderful': 556,\n",
       " 'decided': 557,\n",
       " 'camcorder': 558,\n",
       " 'used': 559,\n",
       " 'close': 560,\n",
       " 'smiling': 561,\n",
       " 'gone': 562,\n",
       " 'unredeemed': 563,\n",
       " 'identifier': 564,\n",
       " 'nt': 565,\n",
       " 'content': 566,\n",
       " 'wit': 567,\n",
       " 'carlos': 568,\n",
       " 'found': 569,\n",
       " 'college': 570,\n",
       " 'sleeping': 571,\n",
       " 'oredi': 572,\n",
       " 'sister': 573,\n",
       " 'poly': 574,\n",
       " 'dating': 575,\n",
       " 'å250': 576,\n",
       " 'fucking': 577,\n",
       " '10': 578,\n",
       " 'å500': 579,\n",
       " 'nope': 580,\n",
       " 'outside': 581,\n",
       " 'simple': 582,\n",
       " 'fri': 583,\n",
       " 'pretty': 584,\n",
       " 'mine': 585,\n",
       " 'mum': 586,\n",
       " 'tscs': 587,\n",
       " 'û': 588,\n",
       " 'anyone': 589,\n",
       " 'loving': 590,\n",
       " 'available': 591,\n",
       " '100': 592,\n",
       " 'credit': 593,\n",
       " 'news': 594,\n",
       " 'hungry': 595,\n",
       " 'telling': 596,\n",
       " 'whole': 597,\n",
       " 'prob': 598,\n",
       " 'search': 599,\n",
       " 'mu': 600,\n",
       " 'youll': 601,\n",
       " 'yr': 602,\n",
       " 'hard': 603,\n",
       " 'frnd': 604,\n",
       " 'fancy': 605,\n",
       " 'bank': 606,\n",
       " 'finally': 607,\n",
       " 'darlin': 608,\n",
       " 'meant': 609,\n",
       " 'coz': 610,\n",
       " 'takes': 611,\n",
       " 'unlimited': 612,\n",
       " '86688': 613,\n",
       " 'okie': 614,\n",
       " 'games': 615,\n",
       " 'bout': 616,\n",
       " 'sea': 617,\n",
       " 'listen': 618,\n",
       " 'fast': 619,\n",
       " 'snow': 620,\n",
       " 'mate': 621,\n",
       " 'party': 622,\n",
       " 'point': 623,\n",
       " 'winner': 624,\n",
       " 'saturday': 625,\n",
       " 'almost': 626,\n",
       " 'congrats': 627,\n",
       " 'cut': 628,\n",
       " 'hee': 629,\n",
       " 'download': 630,\n",
       " 'å5000': 631,\n",
       " 'hit': 632,\n",
       " 'mah': 633,\n",
       " 'friday': 634,\n",
       " 'caller': 635,\n",
       " 'age': 636,\n",
       " 'ltd': 637,\n",
       " 'log': 638,\n",
       " 'course': 639,\n",
       " 'goodmorning': 640,\n",
       " 'side': 641,\n",
       " '10p': 642,\n",
       " 'fr': 643,\n",
       " 'congratulations': 644,\n",
       " 'vouchers': 645,\n",
       " 'fone': 646,\n",
       " 'friendship': 647,\n",
       " 'lost': 648,\n",
       " 'read': 649,\n",
       " 'post': 650,\n",
       " 'mobileupd8': 651,\n",
       " 'talking': 652,\n",
       " 'project': 653,\n",
       " 'couple': 654,\n",
       " 'pm': 655,\n",
       " '8': 656,\n",
       " '2003': 657,\n",
       " '800': 658,\n",
       " 'yar': 659,\n",
       " 'area': 660,\n",
       " 'knw': 661,\n",
       " 'b4': 662,\n",
       " 'mayb': 663,\n",
       " 'wats': 664,\n",
       " 'wife': 665,\n",
       " 'earlier': 666,\n",
       " 'w': 667,\n",
       " 'gas': 668,\n",
       " 'wasnt': 669,\n",
       " 'freemsg': 670,\n",
       " 'months': 671,\n",
       " 'eh': 672,\n",
       " 'eg': 673,\n",
       " 'uk': 674,\n",
       " 'seeing': 675,\n",
       " 'wow': 676,\n",
       " 'etc': 677,\n",
       " 'gotta': 678,\n",
       " 'computer': 679,\n",
       " 'mom': 680,\n",
       " 'uncle': 681,\n",
       " 'numbers': 682,\n",
       " 'sending': 683,\n",
       " 'player': 684,\n",
       " 'direct': 685,\n",
       " 'msgs': 686,\n",
       " 'type': 687,\n",
       " 'youve': 688,\n",
       " 'worth': 689,\n",
       " 'march': 690,\n",
       " 'case': 691,\n",
       " 'tel': 692,\n",
       " 'hold': 693,\n",
       " 'wid': 694,\n",
       " 'swing': 695,\n",
       " 'christmas': 696,\n",
       " 'light': 697,\n",
       " '150pmsg': 698,\n",
       " 'ago': 699,\n",
       " 'currently': 700,\n",
       " 'chikku': 701,\n",
       " '08000839402': 702,\n",
       " 'seen': 703,\n",
       " 'reason': 704,\n",
       " 'ass': 705,\n",
       " 'supposed': 706,\n",
       " 'welcome': 707,\n",
       " 'cum': 708,\n",
       " 'visit': 709,\n",
       " 'lose': 710,\n",
       " 'park': 711,\n",
       " 'gym': 712,\n",
       " 'darren': 713,\n",
       " 'sex': 714,\n",
       " 'lovely': 715,\n",
       " 'ugh': 716,\n",
       " 'least': 717,\n",
       " 'pic': 718,\n",
       " 'grins': 719,\n",
       " 'luck': 720,\n",
       " 'chennai': 721,\n",
       " 'dreams': 722,\n",
       " 'difficult': 723,\n",
       " 'usf': 724,\n",
       " '12': 725,\n",
       " 'pobox': 726,\n",
       " 'national': 727,\n",
       " 'comin': 728,\n",
       " 'charged': 729,\n",
       " 'abiola': 730,\n",
       " 'crave': 731,\n",
       " 'gets': 732,\n",
       " 'complimentary': 733,\n",
       " 'xx': 734,\n",
       " 'loads': 735,\n",
       " 'shower': 736,\n",
       " 'operator': 737,\n",
       " 'match': 738,\n",
       " 'dogging': 739,\n",
       " 'tired': 740,\n",
       " 'safe': 741,\n",
       " 'muz': 742,\n",
       " 'hell': 743,\n",
       " 'mr': 744,\n",
       " 'bath': 745,\n",
       " 'story': 746,\n",
       " 'orchard': 747,\n",
       " 'kate': 748,\n",
       " 'exam': 749,\n",
       " 'secret': 750,\n",
       " 'thinks': 751,\n",
       " 'laptop': 752,\n",
       " 'angry': 753,\n",
       " 'wana': 754,\n",
       " 'die': 755,\n",
       " 'somebody': 756,\n",
       " 'txts': 757,\n",
       " '150': 758,\n",
       " 'jay': 759,\n",
       " 'st': 760,\n",
       " 'motorola': 761,\n",
       " 'slow': 762,\n",
       " 'phones': 763,\n",
       " 'rental': 764,\n",
       " 'india': 765,\n",
       " 'hmm': 766,\n",
       " 'asking': 767,\n",
       " 'sound': 768,\n",
       " 'wonder': 769,\n",
       " 'extra': 770,\n",
       " 'whenever': 771,\n",
       " 'sort': 772,\n",
       " 'wrong': 773,\n",
       " 'information': 774,\n",
       " 'enter': 775,\n",
       " 'parents': 776,\n",
       " 'nah': 777,\n",
       " 'link': 778,\n",
       " 'confirm': 779,\n",
       " 'oops': 780,\n",
       " 'correct': 781,\n",
       " 'pass': 782,\n",
       " 'move': 783,\n",
       " 'song': 784,\n",
       " 'frnds': 785,\n",
       " 'save': 786,\n",
       " 'tickets': 787,\n",
       " 'gave': 788,\n",
       " 'weekends': 789,\n",
       " 'felt': 790,\n",
       " 'invited': 791,\n",
       " 'wine': 792,\n",
       " 'spend': 793,\n",
       " 'ones': 794,\n",
       " 'bathe': 795,\n",
       " 'bill': 796,\n",
       " 'semester': 797,\n",
       " '87066': 798,\n",
       " 'sim': 799,\n",
       " 'ends': 800,\n",
       " 'plans': 801,\n",
       " 'via': 802,\n",
       " 'small': 803,\n",
       " 'figure': 804,\n",
       " 'ex': 805,\n",
       " 'moment': 806,\n",
       " 'woke': 807,\n",
       " 'mm': 808,\n",
       " 'yep': 809,\n",
       " 'voice': 810,\n",
       " 'booked': 811,\n",
       " 'th': 812,\n",
       " 'ten': 813,\n",
       " 'ure': 814,\n",
       " 'different': 815,\n",
       " 'monday': 816,\n",
       " 'water': 817,\n",
       " 'ipod': 818,\n",
       " 'offers': 819,\n",
       " 'cs': 820,\n",
       " 'hoping': 821,\n",
       " 'across': 822,\n",
       " 'warm': 823,\n",
       " 'em': 824,\n",
       " 'happiness': 825,\n",
       " 'å350': 826,\n",
       " 'drugs': 827,\n",
       " 'laugh': 828,\n",
       " 'opt': 829,\n",
       " 'ans': 830,\n",
       " 'fantastic': 831,\n",
       " 'sell': 832,\n",
       " 'glad': 833,\n",
       " 'picking': 834,\n",
       " 'mates': 835,\n",
       " 'understand': 836,\n",
       " 'asap': 837,\n",
       " 'knew': 838,\n",
       " 'heard': 839,\n",
       " 'frm': 840,\n",
       " 'support': 841,\n",
       " 'na': 842,\n",
       " 'surprise': 843,\n",
       " 'film': 844,\n",
       " 'fact': 845,\n",
       " 'loved': 846,\n",
       " 'doin': 847,\n",
       " 'wkly': 848,\n",
       " 'comp': 849,\n",
       " 'valued': 850,\n",
       " 'reward': 851,\n",
       " 'mobiles': 852,\n",
       " 'info': 853,\n",
       " 'promise': 854,\n",
       " 'wap': 855,\n",
       " 'worried': 856,\n",
       " 'knows': 857,\n",
       " 'sick': 858,\n",
       " 'catch': 859,\n",
       " 'moms': 860,\n",
       " 'hospital': 861,\n",
       " 'reached': 862,\n",
       " 'checking': 863,\n",
       " 'forever': 864,\n",
       " '0800': 865,\n",
       " 'men': 866,\n",
       " 'bday': 867,\n",
       " 'rates': 868,\n",
       " 'buying': 869,\n",
       " 'quiz': 870,\n",
       " 'uks': 871,\n",
       " 'lazy': 872,\n",
       " 'lect': 873,\n",
       " 'ni8': 874,\n",
       " 'dream': 875,\n",
       " 'hand': 876,\n",
       " 'hmmm': 877,\n",
       " 'staying': 878,\n",
       " 'especially': 879,\n",
       " 'studying': 880,\n",
       " 'trust': 881,\n",
       " 'using': 882,\n",
       " 'mrng': 883,\n",
       " 'mrt': 884,\n",
       " 'lessons': 885,\n",
       " 'disturb': 886,\n",
       " 'questions': 887,\n",
       " 'stupid': 888,\n",
       " 'unless': 889,\n",
       " 'somewhere': 890,\n",
       " 'å200': 891,\n",
       " 'normal': 892,\n",
       " 'rest': 893,\n",
       " 'pete': 894,\n",
       " 'reading': 895,\n",
       " 'access': 896,\n",
       " 'valentines': 897,\n",
       " 'brings': 898,\n",
       " 'rock': 899,\n",
       " 'kinda': 900,\n",
       " 'terms': 901,\n",
       " 'meh': 902,\n",
       " 'rent': 903,\n",
       " 'less': 904,\n",
       " 'within': 905,\n",
       " 'cheap': 906,\n",
       " 'train': 907,\n",
       " 'ûò': 908,\n",
       " 'paper': 909,\n",
       " 'study': 910,\n",
       " 'xy': 911,\n",
       " 'store': 912,\n",
       " 'aint': 913,\n",
       " 'gettin': 914,\n",
       " 'charity': 915,\n",
       " 'poor': 916,\n",
       " 'user': 917,\n",
       " '10pmin': 918,\n",
       " 'truth': 919,\n",
       " 'hiya': 920,\n",
       " 'doctor': 921,\n",
       " 'wondering': 922,\n",
       " 'others': 923,\n",
       " 'frens': 924,\n",
       " 'tht': 925,\n",
       " 'reaching': 926,\n",
       " '2nite': 927,\n",
       " 'sitting': 928,\n",
       " '11': 929,\n",
       " 'anymore': 930,\n",
       " 'sunday': 931,\n",
       " 'england': 932,\n",
       " '87077': 933,\n",
       " 'mark': 934,\n",
       " 'pizza': 935,\n",
       " 'cheers': 936,\n",
       " 'quick': 937,\n",
       " 'decide': 938,\n",
       " 'youd': 939,\n",
       " 'nigeria': 940,\n",
       " 'ice': 941,\n",
       " 'short': 942,\n",
       " 'spent': 943,\n",
       " 'rain': 944,\n",
       " 'planning': 945,\n",
       " 'entered': 946,\n",
       " 'specially': 947,\n",
       " 'paying': 948,\n",
       " 'ending': 949,\n",
       " 'bak': 950,\n",
       " 'txting': 951,\n",
       " 'pray': 952,\n",
       " 'sometimes': 953,\n",
       " 'wed': 954,\n",
       " 'wheres': 955,\n",
       " 'deal': 956,\n",
       " 'however': 957,\n",
       " 'dead': 958,\n",
       " 'slept': 959,\n",
       " 'road': 960,\n",
       " 'street': 961,\n",
       " 'cd': 962,\n",
       " 'lemme': 963,\n",
       " 'credits': 964,\n",
       " 'blue': 965,\n",
       " 'bslvyl': 966,\n",
       " '2day': 967,\n",
       " 'immediately': 968,\n",
       " 'fixed': 969,\n",
       " 'wiv': 970,\n",
       " 'round': 971,\n",
       " 'urself': 972,\n",
       " 'weed': 973,\n",
       " 'met': 974,\n",
       " 'discount': 975,\n",
       " 'facebook': 976,\n",
       " 'yahoo': 977,\n",
       " 'aha': 978,\n",
       " 'giving': 979,\n",
       " '50': 980,\n",
       " 'din': 981,\n",
       " 'remove': 982,\n",
       " 'near': 983,\n",
       " 'savamob': 984,\n",
       " 'workin': 985,\n",
       " 'daddy': 986,\n",
       " 'door': 987,\n",
       " 'noon': 988,\n",
       " 'valentine': 989,\n",
       " 'longer': 990,\n",
       " 'pc': 991,\n",
       " 'starting': 992,\n",
       " 'tuesday': 993,\n",
       " 'seems': 994,\n",
       " 'tonite': 995,\n",
       " 'add': 996,\n",
       " 'eyes': 997,\n",
       " 'library': 998,\n",
       " 'wishing': 999,\n",
       " 'theyre': 1000,\n",
       " ...}"
      ]
     },
     "execution_count": 27,
     "metadata": {},
     "output_type": "execute_result"
    }
   ],
   "source": [
    "tokenizer.word_index"
   ]
  },
  {
   "cell_type": "code",
   "execution_count": 28,
   "metadata": {},
   "outputs": [
    {
     "name": "stdout",
     "output_type": "stream",
     "text": [
      "9431\n"
     ]
    }
   ],
   "source": [
    "num_words = len(tokenizer.word_index) + 1\n",
    "print(num_words)"
   ]
  },
  {
   "cell_type": "code",
   "execution_count": 29,
   "metadata": {},
   "outputs": [],
   "source": [
    "EMBEDDING_FILE = 'glove.6B.50d.txt'\n",
    "embeddings = {}\n",
    "for o in open(EMBEDDING_FILE, encoding='utf8'):\n",
    "    word = o.split(\" \")[0]\n",
    "    # print(word)\n",
    "    embd = o.split(\" \")[1:]\n",
    "    embd = np.asarray(embd, dtype='float32')\n",
    "    # print(embd)\n",
    "    embeddings[word] = embd\n",
    "\n",
    "# create a weight matrix for words in training docs\n",
    "embedding_matrix = np.zeros((num_words, 50))\n",
    "\n",
    "for word, i in tokenizer.word_index.items():\n",
    "\tembedding_vector = embeddings.get(word)\n",
    "\tif embedding_vector is not None:\n",
    "\t\tembedding_matrix[i] = embedding_vector"
   ]
  },
  {
   "cell_type": "code",
   "execution_count": 30,
   "metadata": {},
   "outputs": [
    {
     "data": {
      "text/plain": [
       "400001"
      ]
     },
     "execution_count": 30,
     "metadata": {},
     "output_type": "execute_result"
    }
   ],
   "source": [
    "len(embeddings.values())"
   ]
  },
  {
   "cell_type": "code",
   "execution_count": 31,
   "metadata": {},
   "outputs": [
    {
     "data": {
      "text/plain": [
       "9431"
      ]
     },
     "execution_count": 31,
     "metadata": {},
     "output_type": "execute_result"
    }
   ],
   "source": [
    "num_words"
   ]
  },
  {
   "cell_type": "code",
   "execution_count": 32,
   "metadata": {},
   "outputs": [],
   "source": [
    "from sklearn.preprocessing import OneHotEncoder\n",
    "enc = OneHotEncoder()\n",
    "y = enc.fit_transform(y.reshape(-1,1))"
   ]
  },
  {
   "cell_type": "code",
   "execution_count": 33,
   "metadata": {},
   "outputs": [],
   "source": [
    "y = y.todense()"
   ]
  },
  {
   "cell_type": "markdown",
   "metadata": {},
   "source": [
    "### Segregate the data into X (independent feature - text message) and y (label) and split the data into train and test set ( take test size = 0.30) (2 marks)"
   ]
  },
  {
   "cell_type": "code",
   "execution_count": 34,
   "metadata": {},
   "outputs": [],
   "source": [
    "from sklearn.model_selection import train_test_split\n",
    "X_train, X_test, y_train, y_test = train_test_split(X, y, random_state = 50, stratify=y, test_size=0.3)"
   ]
  },
  {
   "cell_type": "markdown",
   "metadata": {},
   "source": [
    "### Define a lstm model architecture using TensorFlow with an embedding and lstm layer followed by dense layers with activation as ReLu and sigmoid respectively."
   ]
  },
  {
   "cell_type": "code",
   "execution_count": 35,
   "metadata": {},
   "outputs": [],
   "source": [
    "import tensorflow as tf\n",
    "from tensorflow.keras.models import Sequential\n",
    "from tensorflow.keras.layers import Embedding, Bidirectional, LSTM, Dense, Dropout, Flatten\n",
    "from functools import partial\n",
    "\n",
    "model = Sequential()\n",
    "model.add(Embedding(num_words, embedding_size, weights = [embedding_matrix], input_length=maxlen))\n",
    "model.add(Bidirectional(LSTM(128, return_sequences = True)))\n",
    "model.add(Flatten())\n",
    "model.add(Dense(512, activation='relu'))\n",
    "model.add(Dense(256, activation = 'relu'))\n",
    "model.add(Dense(128, activation = 'relu'))\n",
    "model.add(Dense(64, activation= 'relu'))\n",
    "model.add(Dropout(0.5))\n",
    "model.add(Dense(2, activation=\"sigmoid\"))"
   ]
  },
  {
   "cell_type": "markdown",
   "metadata": {},
   "source": [
    "### Compile the above model with loss as binary cross-entropy and optimizers ( like Adam or RMSro). Use accuracy as the metric for evaluation."
   ]
  },
  {
   "cell_type": "code",
   "execution_count": 36,
   "metadata": {},
   "outputs": [],
   "source": [
    "model.compile(loss='binary_crossentropy', optimizer='adam', metrics=['     '])"
   ]
  },
  {
   "cell_type": "markdown",
   "metadata": {},
   "source": [
    "### Check the summary of the model. ( 2 marks)"
   ]
  },
  {
   "cell_type": "code",
   "execution_count": 37,
   "metadata": {},
   "outputs": [
    {
     "name": "stdout",
     "output_type": "stream",
     "text": [
      "Model: \"sequential\"\n",
      "_________________________________________________________________\n",
      "Layer (type)                 Output Shape              Param #   \n",
      "=================================================================\n",
      "embedding (Embedding)        (None, 25, 50)            471550    \n",
      "_________________________________________________________________\n",
      "bidirectional (Bidirectional (None, 25, 256)           183296    \n",
      "_________________________________________________________________\n",
      "flatten (Flatten)            (None, 6400)              0         \n",
      "_________________________________________________________________\n",
      "dense (Dense)                (None, 512)               3277312   \n",
      "_________________________________________________________________\n",
      "dense_1 (Dense)              (None, 256)               131328    \n",
      "_________________________________________________________________\n",
      "dense_2 (Dense)              (None, 128)               32896     \n",
      "_________________________________________________________________\n",
      "dense_3 (Dense)              (None, 64)                8256      \n",
      "_________________________________________________________________\n",
      "dropout (Dropout)            (None, 64)                0         \n",
      "_________________________________________________________________\n",
      "dense_4 (Dense)              (None, 2)                 130       \n",
      "=================================================================\n",
      "Total params: 4,104,768\n",
      "Trainable params: 4,104,768\n",
      "Non-trainable params: 0\n",
      "_________________________________________________________________\n"
     ]
    }
   ],
   "source": [
    "model.summary()"
   ]
  },
  {
   "cell_type": "code",
   "execution_count": 38,
   "metadata": {},
   "outputs": [
    {
     "name": "stdout",
     "output_type": "stream",
     "text": [
      "(3618, 25) (3618, 2)\n"
     ]
    }
   ],
   "source": [
    "print(X_train.shape, y_train.shape)"
   ]
  },
  {
   "cell_type": "code",
   "execution_count": 39,
   "metadata": {},
   "outputs": [
    {
     "name": "stdout",
     "output_type": "stream",
     "text": [
      "(1551, 25) (1551, 2)\n"
     ]
    }
   ],
   "source": [
    "print(X_test.shape, y_test.shape)"
   ]
  },
  {
   "cell_type": "markdown",
   "metadata": {},
   "source": [
    "### Fit the above lstm model on tokenized train data and check its performance on test data. Print the loss and accuracy for the test data."
   ]
  },
  {
   "cell_type": "code",
   "execution_count": 40,
   "metadata": {},
   "outputs": [
    {
     "name": "stdout",
     "output_type": "stream",
     "text": [
      "Train on 3618 samples, validate on 1551 samples\n",
      "Epoch 1/15\n",
      "3618/3618 [==============================] - 9s 2ms/sample - loss: 0.1957 - accuracy: 0.9306 - val_loss: 0.1225 - val_accuracy: 0.9652\n",
      "Epoch 2/15\n",
      "3618/3618 [==============================] - 3s 852us/sample - loss: 0.0761 - accuracy: 0.9782 - val_loss: 0.1121 - val_accuracy: 0.9613\n",
      "Epoch 3/15\n",
      "3618/3618 [==============================] - 3s 854us/sample - loss: 0.0514 - accuracy: 0.9866 - val_loss: 0.1173 - val_accuracy: 0.9710\n",
      "Epoch 4/15\n",
      "3618/3618 [==============================] - 3s 874us/sample - loss: 0.0258 - accuracy: 0.9914 - val_loss: 0.1447 - val_accuracy: 0.9691\n",
      "Epoch 5/15\n",
      "3618/3618 [==============================] - 3s 907us/sample - loss: 0.0125 - accuracy: 0.9963 - val_loss: 0.1941 - val_accuracy: 0.9749\n",
      "Epoch 6/15\n",
      "3618/3618 [==============================] - 3s 860us/sample - loss: 0.0103 - accuracy: 0.9959 - val_loss: 0.1989 - val_accuracy: 0.9642\n",
      "Epoch 7/15\n",
      "3618/3618 [==============================] - 3s 852us/sample - loss: 0.0147 - accuracy: 0.9960 - val_loss: 0.1702 - val_accuracy: 0.9742\n",
      "Epoch 8/15\n",
      "3618/3618 [==============================] - 3s 836us/sample - loss: 0.0201 - accuracy: 0.9942 - val_loss: 0.2387 - val_accuracy: 0.9639\n",
      "Epoch 9/15\n",
      "3618/3618 [==============================] - 3s 841us/sample - loss: 0.0080 - accuracy: 0.9981 - val_loss: 0.2532 - val_accuracy: 0.9761\n",
      "Epoch 10/15\n",
      "3618/3618 [==============================] - 3s 842us/sample - loss: 0.0035 - accuracy: 0.9988 - val_loss: 0.2638 - val_accuracy: 0.9723\n",
      "Epoch 11/15\n",
      "3618/3618 [==============================] - 4s 1ms/sample - loss: 2.2398e-04 - accuracy: 1.0000 - val_loss: 0.3329 - val_accuracy: 0.9700\n",
      "Epoch 12/15\n",
      "3618/3618 [==============================] - 4s 1ms/sample - loss: 1.0152e-04 - accuracy: 1.0000 - val_loss: 0.3577 - val_accuracy: 0.9697\n",
      "Epoch 13/15\n",
      "3618/3618 [==============================] - 4s 1ms/sample - loss: 2.2474e-05 - accuracy: 1.0000 - val_loss: 0.3737 - val_accuracy: 0.9703\n",
      "Epoch 14/15\n",
      "3618/3618 [==============================] - 4s 1ms/sample - loss: 3.0388e-05 - accuracy: 1.0000 - val_loss: 0.3892 - val_accuracy: 0.9700\n",
      "Epoch 15/15\n",
      "3618/3618 [==============================] - 4s 1ms/sample - loss: 4.1842e-05 - accuracy: 1.0000 - val_loss: 0.4072 - val_accuracy: 0.9703\n"
     ]
    }
   ],
   "source": [
    "batch_size = 100\n",
    "epochs = 15\n",
    "\n",
    "training_history = model.fit(X_train, y_train, batch_size=batch_size, epochs=epochs, validation_data=(X_test, y_test))"
   ]
  },
  {
   "cell_type": "code",
   "execution_count": 41,
   "metadata": {},
   "outputs": [],
   "source": [
    "predictions = model.predict(X_test.reshape(len(X_test),25))"
   ]
  },
  {
   "cell_type": "code",
   "execution_count": 42,
   "metadata": {},
   "outputs": [],
   "source": [
    "y_test_inv = enc.inverse_transform(y_test)"
   ]
  },
  {
   "cell_type": "code",
   "execution_count": 43,
   "metadata": {},
   "outputs": [],
   "source": [
    "y_pred_inv = enc.inverse_transform(np.around(predictions))"
   ]
  },
  {
   "cell_type": "code",
   "execution_count": 44,
   "metadata": {},
   "outputs": [
    {
     "data": {
      "text/plain": [
       "array([[1331,   24],\n",
       "       [  21,  175]], dtype=int64)"
      ]
     },
     "execution_count": 44,
     "metadata": {},
     "output_type": "execute_result"
    }
   ],
   "source": [
    "from sklearn.metrics import confusion_matrix\n",
    "confusion_matrix(y_test_inv, y_pred_inv)"
   ]
  },
  {
   "cell_type": "code",
   "execution_count": 45,
   "metadata": {},
   "outputs": [
    {
     "data": {
      "text/plain": [
       "0.9709864603481625"
      ]
     },
     "execution_count": 45,
     "metadata": {},
     "output_type": "execute_result"
    }
   ],
   "source": [
    "from sklearn.metrics import accuracy_score\n",
    "accuracy_score(y_test_inv, y_pred_inv)"
   ]
  },
  {
   "cell_type": "code",
   "execution_count": 46,
   "metadata": {},
   "outputs": [
    {
     "name": "stdout",
     "output_type": "stream",
     "text": [
      "              precision    recall  f1-score   support\n",
      "\n",
      "           0       0.98      0.98      0.98      1355\n",
      "           1       0.88      0.89      0.89       196\n",
      "\n",
      "    accuracy                           0.97      1551\n",
      "   macro avg       0.93      0.94      0.93      1551\n",
      "weighted avg       0.97      0.97      0.97      1551\n",
      "\n"
     ]
    }
   ],
   "source": [
    "from sklearn.metrics import classification_report\n",
    "print(classification_report(y_test_inv, y_pred_inv))"
   ]
  },
  {
   "cell_type": "code",
   "execution_count": 47,
   "metadata": {},
   "outputs": [
    {
     "data": {
      "text/plain": [
       "Text(0.5, 1.0, 'Training and validation loss')"
      ]
     },
     "execution_count": 47,
     "metadata": {},
     "output_type": "execute_result"
    },
    {
     "data": {
      "image/png": "[encoded data removed]",
      "text/plain": [
       "<Figure size 432x288 with 1 Axes>"
      ]
     },
     "metadata": {
      "needs_background": "light"
     },
     "output_type": "display_data"
    },
    {
     "data": {
      "image/png": "[encoded data removed]",
      "text/plain": [
       "<Figure size 432x288 with 1 Axes>"
      ]
     },
     "metadata": {
      "needs_background": "light"
     },
     "output_type": "display_data"
    }
   ],
   "source": [
    "import matplotlib.pyplot as plt\n",
    "accuracy      = training_history.history['accuracy']\n",
    "val_accuracy  = training_history.history['val_accuracy']\n",
    "loss     = training_history.history['loss']\n",
    "val_loss = training_history.history['val_loss']\n",
    "\n",
    "epochs   = range(len(accuracy)) # Get number of epochs\n",
    "\n",
    "plt.plot  ( epochs, accuracy, label = 'training accuracy' )\n",
    "plt.plot  ( epochs, val_accuracy, label = 'validation accuracy' )\n",
    "plt.title ('Training and validation accuracy')\n",
    "plt.legend(loc = 'lower right')\n",
    "plt.figure()\n",
    "\n",
    "plt.plot  ( epochs, loss, label = 'training loss' )\n",
    "plt.plot  ( epochs, val_loss, label = 'validation loss' )\n",
    "plt.legend(loc = 'upper right')\n",
    "plt.title ('Training and validation loss'   )"
   ]
  },
  {
   "cell_type": "markdown",
   "metadata": {},
   "source": [
    "## 6. Conclusion and Interpretation\n",
    "### 1.) We get an overall accuracy of 98% in our model. F1 score is also quite high ~ 90% for both 0 and 1[ham and spam] class, which is quite good. \n",
    "### 2) LSTM model is able to accurately detect class 1 with F1 score and accuracy of ~ 90% is great considering the classes are imbalanced \n",
    "\n",
    "### 3.) Our mean precision value weighted average is 97%."
   ]
  },
  {
   "cell_type": "code",
   "execution_count": null,
   "metadata": {},
   "outputs": [],
   "source": []
  }
 ],
 "metadata": {
  "kernelspec": {
   "display_name": "Python 3 (ipykernel)",
   "language": "python",
   "name": "python3"
  },
  "language_info": {
   "codemirror_mode": {
    "name": "ipython",
    "version": 3
   },
   "file_extension": ".py",
   "mimetype": "text/x-python",
   "name": "python",
   "nbconvert_exporter": "python",
   "pygments_lexer": "ipython3",
   "version": "3.9.13"
  }
 },
 "nbformat": 4,
 "nbformat_minor": 4
}
